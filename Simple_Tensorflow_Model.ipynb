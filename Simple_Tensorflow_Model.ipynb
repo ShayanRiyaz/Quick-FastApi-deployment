{
 "cells": [
  {
   "cell_type": "code",
   "execution_count": 19,
   "metadata": {},
   "outputs": [
    {
     "name": "stdout",
     "output_type": "stream",
     "text": [
      "Processing /Users/shayanriyaz/Library/Caches/pip/wheels/76/03/bb/589d421d27431bcd2c6da284d5f2286c8e3b2ea3cf1594c074/sklearn-0.0-py2.py3-none-any.whl\n",
      "Collecting scikit-learn\n",
      "  Downloading scikit_learn-0.22.2.post1-cp36-cp36m-macosx_10_9_x86_64.whl (7.2 MB)\n",
      "\u001b[K     |████████████████████████████████| 7.2 MB 2.3 MB/s eta 0:00:01\n",
      "\u001b[?25hRequirement already satisfied: joblib>=0.11 in /Users/shayanriyaz/opt/anaconda3/envs/AIMO/lib/python3.6/site-packages (from scikit-learn->sklearn) (0.14.1)\n",
      "Requirement already satisfied: scipy>=0.17.0 in /Users/shayanriyaz/opt/anaconda3/envs/AIMO/lib/python3.6/site-packages (from scikit-learn->sklearn) (1.4.1)\n",
      "Requirement already satisfied: numpy>=1.11.0 in /Users/shayanriyaz/opt/anaconda3/envs/AIMO/lib/python3.6/site-packages (from scikit-learn->sklearn) (1.18.1)\n",
      "Installing collected packages: scikit-learn, sklearn\n",
      "Successfully installed scikit-learn-0.22.2.post1 sklearn-0.0\n"
     ]
    }
   ],
   "source": [
    "!pip install sklearn"
   ]
  },
  {
   "cell_type": "code",
   "execution_count": 17,
   "metadata": {},
   "outputs": [
    {
     "name": "stdout",
     "output_type": "stream",
     "text": [
      "Collecting joblib\n",
      "  Using cached joblib-0.14.1-py2.py3-none-any.whl (294 kB)\n",
      "Installing collected packages: joblib\n",
      "Successfully installed joblib-0.14.1\n"
     ]
    }
   ],
   "source": [
    "!pip install joblib"
   ]
  },
  {
   "cell_type": "code",
   "execution_count": 26,
   "metadata": {},
   "outputs": [
    {
     "name": "stdout",
     "output_type": "stream",
     "text": [
      "WARNING:tensorflow:From /Users/shayanriyaz/opt/anaconda3/envs/AIMO/lib/python3.6/site-packages/tensorflow_core/python/ops/resource_variable_ops.py:1635: calling BaseResourceVariable.__init__ (from tensorflow.python.ops.resource_variable_ops) with constraint is deprecated and will be removed in a future version.\n",
      "Instructions for updating:\n",
      "If using Keras pass *_constraint arguments to layers.\n",
      "Train on 1097 samples, validate on 275 samples\n",
      "Epoch 1/20\n",
      "1097/1097 [==============================] - 0s 346us/sample - loss: 0.5263 - acc: 0.8569 - val_loss: 0.4283 - val_acc: 0.9091\n",
      "Epoch 2/20\n",
      "1097/1097 [==============================] - 0s 59us/sample - loss: 0.3313 - acc: 0.9271 - val_loss: 0.2580 - val_acc: 0.9455\n",
      "Epoch 3/20\n",
      "1097/1097 [==============================] - 0s 60us/sample - loss: 0.1872 - acc: 0.9544 - val_loss: 0.1455 - val_acc: 0.9636\n",
      "Epoch 4/20\n",
      "1097/1097 [==============================] - 0s 61us/sample - loss: 0.1078 - acc: 0.9736 - val_loss: 0.0891 - val_acc: 0.9782\n",
      "Epoch 5/20\n",
      "1097/1097 [==============================] - 0s 67us/sample - loss: 0.0702 - acc: 0.9799 - val_loss: 0.0648 - val_acc: 0.9782\n",
      "Epoch 6/20\n",
      "1097/1097 [==============================] - 0s 85us/sample - loss: 0.0513 - acc: 0.9845 - val_loss: 0.0506 - val_acc: 0.9782\n",
      "Epoch 7/20\n",
      "1097/1097 [==============================] - 0s 75us/sample - loss: 0.0398 - acc: 0.9845 - val_loss: 0.0404 - val_acc: 0.9782\n",
      "Epoch 8/20\n",
      "1097/1097 [==============================] - 0s 53us/sample - loss: 0.0319 - acc: 0.9872 - val_loss: 0.0328 - val_acc: 0.9818\n",
      "Epoch 9/20\n",
      "1097/1097 [==============================] - 0s 56us/sample - loss: 0.0260 - acc: 0.9909 - val_loss: 0.0267 - val_acc: 0.9964\n",
      "Epoch 10/20\n",
      "1097/1097 [==============================] - 0s 60us/sample - loss: 0.0210 - acc: 0.9964 - val_loss: 0.0224 - val_acc: 0.9964\n",
      "Epoch 11/20\n",
      "1097/1097 [==============================] - 0s 69us/sample - loss: 0.0175 - acc: 0.9964 - val_loss: 0.0186 - val_acc: 0.9964\n",
      "Epoch 12/20\n",
      "1097/1097 [==============================] - 0s 76us/sample - loss: 0.0145 - acc: 0.9982 - val_loss: 0.0154 - val_acc: 1.0000\n",
      "Epoch 13/20\n",
      "1097/1097 [==============================] - 0s 77us/sample - loss: 0.0122 - acc: 1.0000 - val_loss: 0.0130 - val_acc: 1.0000\n",
      "Epoch 14/20\n",
      "1097/1097 [==============================] - 0s 66us/sample - loss: 0.0102 - acc: 1.0000 - val_loss: 0.0109 - val_acc: 1.0000\n",
      "Epoch 15/20\n",
      "1097/1097 [==============================] - 0s 64us/sample - loss: 0.0088 - acc: 1.0000 - val_loss: 0.0095 - val_acc: 1.0000\n",
      "Epoch 16/20\n",
      "1097/1097 [==============================] - 0s 55us/sample - loss: 0.0075 - acc: 1.0000 - val_loss: 0.0083 - val_acc: 1.0000\n",
      "Epoch 17/20\n",
      "1097/1097 [==============================] - 0s 53us/sample - loss: 0.0064 - acc: 1.0000 - val_loss: 0.0072 - val_acc: 1.0000\n",
      "Epoch 18/20\n",
      "1097/1097 [==============================] - 0s 60us/sample - loss: 0.0055 - acc: 1.0000 - val_loss: 0.0062 - val_acc: 1.0000\n",
      "Epoch 19/20\n",
      "1097/1097 [==============================] - 0s 60us/sample - loss: 0.0049 - acc: 1.0000 - val_loss: 0.0055 - val_acc: 1.0000\n",
      "Epoch 20/20\n",
      "1097/1097 [==============================] - 0s 61us/sample - loss: 0.0043 - acc: 1.0000 - val_loss: 0.0049 - val_acc: 1.0000\n"
     ]
    },
    {
     "data": {
      "text/plain": [
       "['scaler.joblib']"
      ]
     },
     "execution_count": 26,
     "metadata": {},
     "output_type": "execute_result"
    }
   ],
   "source": [
    "# Import Libraries\n",
    "import tensorflow\n",
    "import pandas as pd\n",
    "import numpy as np\n",
    "import joblib\n",
    "from tensorflow.keras.models import Sequential\n",
    "from tensorflow.keras.layers import Dense\n",
    "from sklearn.model_selection import train_test_split\n",
    "from sklearn.preprocessing import StandardScaler\n",
    "\n",
    "\n",
    "# Load data from UCI dataset repo\n",
    "data = np.loadtxt('data_banknote_authentication.txt', delimiter=',')\n",
    "data = pd.DataFrame(data)\n",
    "\n",
    "# Add column names\n",
    "clean_columns = ['variance_of_wavelet', 'skewness_of_wavelet',\n",
    "                 'curtosis_of_wavelet', 'entropy_of_wavelet',\n",
    "                 'class']\n",
    "\n",
    "data.columns = clean_columns\n",
    "\n",
    "# Separate the target and features as separate dataframes for sklearn APIs\n",
    "X = data.drop('class', axis=1)\n",
    "y = data[['class']].astype('int')\n",
    "\n",
    "\n",
    "# Stratified sampling based on the distribution of the target vector, y\n",
    "X_train, X_test, y_train, y_test = train_test_split(X, y,\n",
    "                                                    stratify=y,\n",
    "                                                    test_size=0.20,\n",
    "                                                    random_state=30)\n",
    "\n",
    "# Scale features\n",
    "sc = StandardScaler()\n",
    "\n",
    "X_train = sc.fit_transform(X_train)\n",
    "X_test = sc.transform(X_test)\n",
    "\n",
    "\n",
    "# Network Architecture\n",
    "model = Sequential()\n",
    "model.add(Dense(50,activation='relu', input_shape=(X.shape[1],)))\n",
    "model.add(Dense(30, activation='relu'))\n",
    "model.add(Dense(1, activation='sigmoid'))\n",
    "\n",
    "# Compile model\n",
    "model.compile(loss='binary_crossentropy',\n",
    "              optimizer='adam',\n",
    "              metrics=['accuracy'])\n",
    "\n",
    "# Train and validate generated model with the unseen test set\n",
    "model.fit(X_train, y_train.values, epochs=20, validation_data=(X_test, y_test.values))\n",
    "\n",
    "# Save model objects - predictor and scaler object\n",
    "model.save('banknote_authentication_model.h5')\n",
    "joblib.dump(sc, 'scaler.joblib')"
   ]
  },
  {
   "cell_type": "code",
   "execution_count": 24,
   "metadata": {},
   "outputs": [
    {
     "name": "stdout",
     "output_type": "stream",
     "text": [
      "data_banknote_authentication.rtf\r\n"
     ]
    }
   ],
   "source": [
    "ls\n"
   ]
  },
  {
   "cell_type": "code",
   "execution_count": null,
   "metadata": {},
   "outputs": [],
   "source": []
  }
 ],
 "metadata": {
  "kernelspec": {
   "display_name": "Python 3",
   "language": "python",
   "name": "python3"
  },
  "language_info": {
   "codemirror_mode": {
    "name": "ipython",
    "version": 3
   },
   "file_extension": ".py",
   "mimetype": "text/x-python",
   "name": "python",
   "nbconvert_exporter": "python",
   "pygments_lexer": "ipython3",
   "version": "3.6.10"
  }
 },
 "nbformat": 4,
 "nbformat_minor": 4
}
